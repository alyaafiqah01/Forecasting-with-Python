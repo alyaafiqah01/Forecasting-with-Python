{
 "cells": [
  {
   "cell_type": "code",
   "execution_count": 16,
   "id": "386a2dce-39b6-4e40-ba0b-b2f7dce6b2e1",
   "metadata": {},
   "outputs": [],
   "source": [
    "#ARIMA fit \n",
    "from pmdarima.arima.utils import ndiffs\n",
    "import pandas as pd"
   ]
  },
  {
   "cell_type": "code",
   "execution_count": 17,
   "id": "a1bede70-97a8-4ab6-9e42-09ededfcd8d7",
   "metadata": {},
   "outputs": [],
   "source": [
    "df = pd.read_csv('malaysia_parcel_volumes_2.csv',names = ['value'], header = 0)\n",
    "X = df.value"
   ]
  },
  {
   "cell_type": "code",
   "execution_count": 18,
   "id": "21441040-a213-42d0-8dea-066550f7e793",
   "metadata": {},
   "outputs": [],
   "source": [
    "p = ndiffs(X,test ='adf')"
   ]
  },
  {
   "cell_type": "code",
   "execution_count": 19,
   "id": "da9d56db-8e0a-49ff-8c09-8e57cce24859",
   "metadata": {},
   "outputs": [],
   "source": [
    "q = ndiffs(X,test='kpss')"
   ]
  },
  {
   "cell_type": "code",
   "execution_count": 20,
   "id": "1f070db0-f201-4af5-a07a-d25b85f14206",
   "metadata": {},
   "outputs": [],
   "source": [
    "d = ndiffs(X,test='pp')"
   ]
  },
  {
   "cell_type": "code",
   "execution_count": 21,
   "id": "11f31f56-6f55-4252-bd5b-19d50bab9a27",
   "metadata": {},
   "outputs": [
    {
     "name": "stdout",
     "output_type": "stream",
     "text": [
      "p= 0\n",
      "q= 0\n",
      "d= 0\n"
     ]
    }
   ],
   "source": [
    "print('p=',p)\n",
    "print('q=',q)\n",
    "print('d=',d)"
   ]
  }
 ],
 "metadata": {
  "kernelspec": {
   "display_name": "Python 3 (ipykernel)",
   "language": "python",
   "name": "python3"
  },
  "language_info": {
   "codemirror_mode": {
    "name": "ipython",
    "version": 3
   },
   "file_extension": ".py",
   "mimetype": "text/x-python",
   "name": "python",
   "nbconvert_exporter": "python",
   "pygments_lexer": "ipython3",
   "version": "3.12.4"
  }
 },
 "nbformat": 4,
 "nbformat_minor": 5
}
