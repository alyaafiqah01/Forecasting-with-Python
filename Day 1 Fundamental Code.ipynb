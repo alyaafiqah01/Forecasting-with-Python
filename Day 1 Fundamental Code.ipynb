{
 "cells": [
  {
   "cell_type": "code",
   "execution_count": 1,
   "id": "d59e3d37-9479-4f9f-87d4-82402ef94bd1",
   "metadata": {},
   "outputs": [
    {
     "name": "stdout",
     "output_type": "stream",
     "text": [
      "Hello\n",
      "K-Youth\n"
     ]
    }
   ],
   "source": [
    "#Introduction to Phton\n",
    "\n",
    "print('Hello')\n",
    "print('K-Youth')"
   ]
  },
  {
   "cell_type": "code",
   "execution_count": 2,
   "id": "e2abb7fa-1f18-4bb0-b3dc-14c081dd02d8",
   "metadata": {},
   "outputs": [
    {
     "name": "stdout",
     "output_type": "stream",
     "text": [
      "Alya\n"
     ]
    }
   ],
   "source": [
    "nama = 'Alya'\n",
    "print(nama)"
   ]
  },
  {
   "cell_type": "code",
   "execution_count": 3,
   "id": "21b7ca5a-a5a6-4544-a4b2-c79c79ff9a48",
   "metadata": {},
   "outputs": [
    {
     "name": "stdin",
     "output_type": "stream",
     "text": [
      "What is your name Alya\n"
     ]
    },
    {
     "data": {
      "text/plain": [
       "'Alya'"
      ]
     },
     "execution_count": 3,
     "metadata": {},
     "output_type": "execute_result"
    }
   ],
   "source": [
    "input(\"What is your name\")"
   ]
  }
 ],
 "metadata": {
  "kernelspec": {
   "display_name": "Python 3 (ipykernel)",
   "language": "python",
   "name": "python3"
  },
  "language_info": {
   "codemirror_mode": {
    "name": "ipython",
    "version": 3
   },
   "file_extension": ".py",
   "mimetype": "text/x-python",
   "name": "python",
   "nbconvert_exporter": "python",
   "pygments_lexer": "ipython3",
   "version": "3.12.4"
  }
 },
 "nbformat": 4,
 "nbformat_minor": 5
}
