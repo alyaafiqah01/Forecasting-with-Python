{
 "cells": [
  {
   "cell_type": "code",
   "execution_count": 42,
   "id": "3daed408-72e8-425d-8d3f-80e60e171e54",
   "metadata": {},
   "outputs": [],
   "source": [
    "import pandas as pd"
   ]
  },
  {
   "cell_type": "code",
   "execution_count": 43,
   "id": "842e9266-4d84-495b-aa9b-151a06fe2a7e",
   "metadata": {},
   "outputs": [],
   "source": [
    "data = {\n",
    "    'Date': ['2017-01-01','2017-02-01','2017-03-01','2017-04-01','2017-05-01'],\n",
    "    'Parcel Volume': [1000,900,1100,1300,1500],\n",
    "    'Distance': [200,150,250,180,300],\n",
    "    'Cost per Mile': [2.5,2.2,3,2.8,3.5]\n",
    "    }"
   ]
  },
  {
   "cell_type": "code",
   "execution_count": 44,
   "id": "214381d1-7df7-4509-940f-3c12cea7281d",
   "metadata": {},
   "outputs": [],
   "source": [
    "df = pd.DataFrame(data)"
   ]
  },
  {
   "cell_type": "code",
   "execution_count": 45,
   "id": "14f534b8-ff8d-4c65-9906-8a1f8af49bce",
   "metadata": {},
   "outputs": [
    {
     "name": "stdout",
     "output_type": "stream",
     "text": [
      "         Date  Parcel Volume  Distance  Cost per Mile\n",
      "0  2017-01-01           1000       200            2.5\n",
      "1  2017-02-01            900       150            2.2\n",
      "2  2017-03-01           1100       250            3.0\n",
      "3  2017-04-01           1300       180            2.8\n",
      "4  2017-05-01           1500       300            3.5\n"
     ]
    }
   ],
   "source": [
    "print(df)"
   ]
  },
  {
   "cell_type": "code",
   "execution_count": 46,
   "id": "fba01edb-454d-4906-a248-cee30f0e2a07",
   "metadata": {},
   "outputs": [],
   "source": [
    "df['Transportation Costs'] = df['Parcel Volume'] * df['Distance'] * df['Cost per Mile']"
   ]
  },
  {
   "cell_type": "code",
   "execution_count": 47,
   "id": "ae8c07bb-624b-47c3-8c6a-33baa2cad0eb",
   "metadata": {},
   "outputs": [
    {
     "name": "stdout",
     "output_type": "stream",
     "text": [
      "         Date  Parcel Volume  Distance  Cost per Mile  Transportation Costs\n",
      "0  2017-01-01           1000       200            2.5              500000.0\n",
      "1  2017-02-01            900       150            2.2              297000.0\n",
      "2  2017-03-01           1100       250            3.0              825000.0\n",
      "3  2017-04-01           1300       180            2.8              655200.0\n",
      "4  2017-05-01           1500       300            3.5             1575000.0\n"
     ]
    }
   ],
   "source": [
    "print(df)"
   ]
  },
  {
   "cell_type": "code",
   "execution_count": 48,
   "id": "de424dd4-8edc-44be-89f1-0506c3038513",
   "metadata": {},
   "outputs": [],
   "source": [
    "df.to_csv('Transportation Costs.csv',index=False)"
   ]
  },
  {
   "cell_type": "code",
   "execution_count": 49,
   "id": "8b836918-371c-4f1a-9c0a-758e501a80e1",
   "metadata": {},
   "outputs": [],
   "source": [
    "data = {\n",
    "    'Date': ['2017-01-01','2017-02-01','2017-03-01','2017-04-01','2017-05-01'],\n",
    "    'Opening Inventory': [500,550,450,600,650],\n",
    "    'Incoming Quantity': [200,150,250,180,300],\n",
    "    'Outgoing Quantity': [100,120,150,110,180]\n",
    "    }"
   ]
  },
  {
   "cell_type": "code",
   "execution_count": 50,
   "id": "dfb5c90d-61a1-4dd4-b45a-ca56cd279d62",
   "metadata": {},
   "outputs": [],
   "source": [
    "df = pd.DataFrame(data)"
   ]
  },
  {
   "cell_type": "code",
   "execution_count": 51,
   "id": "d515a1ae-8906-460d-a89b-7ef3b523c6f7",
   "metadata": {},
   "outputs": [
    {
     "name": "stdout",
     "output_type": "stream",
     "text": [
      "         Date  Opening Inventory  Incoming Quantity  Outgoing Quantity\n",
      "0  2017-01-01                500                200                100\n",
      "1  2017-02-01                550                150                120\n",
      "2  2017-03-01                450                250                150\n",
      "3  2017-04-01                600                180                110\n",
      "4  2017-05-01                650                300                180\n"
     ]
    }
   ],
   "source": [
    "print(df)"
   ]
  },
  {
   "cell_type": "code",
   "execution_count": 52,
   "id": "6dc730dc-f24f-41c9-b35c-ebb505751cf5",
   "metadata": {},
   "outputs": [],
   "source": [
    "df['Inventory Levels'] = df['Opening Inventory']+df['Incoming Quantity']-df['Outgoing Quantity']"
   ]
  },
  {
   "cell_type": "code",
   "execution_count": 53,
   "id": "11713a3f-8ff5-475f-8c60-089b1ab963fc",
   "metadata": {},
   "outputs": [
    {
     "name": "stdout",
     "output_type": "stream",
     "text": [
      "         Date  Opening Inventory  Incoming Quantity  Outgoing Quantity  \\\n",
      "0  2017-01-01                500                200                100   \n",
      "1  2017-02-01                550                150                120   \n",
      "2  2017-03-01                450                250                150   \n",
      "3  2017-04-01                600                180                110   \n",
      "4  2017-05-01                650                300                180   \n",
      "\n",
      "   Inventory Levels  \n",
      "0               600  \n",
      "1               580  \n",
      "2               550  \n",
      "3               670  \n",
      "4               770  \n"
     ]
    }
   ],
   "source": [
    "print(df)"
   ]
  },
  {
   "cell_type": "code",
   "execution_count": 54,
   "id": "cc7657ef-196a-41ff-8a2c-6eba5a344a4b",
   "metadata": {},
   "outputs": [],
   "source": [
    "df.to_csv('Inventory Levels.csv',index=False)"
   ]
  },
  {
   "cell_type": "code",
   "execution_count": 55,
   "id": "56890858-8fd2-42b2-96b3-74f142afff59",
   "metadata": {},
   "outputs": [],
   "source": [
    "data = {\n",
    "    'Date': ['2017-01-01', '2017-02-01', '2017-03-01', '2017-04-01', '2017-05-01'],\n",
    "    'Order Date': ['2016-12-25', '2017-01-28', '2017-02-15', '2017-03-05', '2017-04-10'],\n",
    "    'Delivery Date': ['2017-01-02', '2017-02-05', '2017-03-02', '2017-04-08', '2017-05-15']\n",
    "}"
   ]
  },
  {
   "cell_type": "code",
   "execution_count": 56,
   "id": "fa9ff50c-a1c1-4135-b194-02be05042cc9",
   "metadata": {},
   "outputs": [],
   "source": [
    "df = pd.DataFrame(data)"
   ]
  },
  {
   "cell_type": "code",
   "execution_count": 57,
   "id": "bd451633-a47a-4234-bb92-ae7a61c08a89",
   "metadata": {},
   "outputs": [
    {
     "name": "stdout",
     "output_type": "stream",
     "text": [
      "         Date  Order Date Delivery Date\n",
      "0  2017-01-01  2016-12-25    2017-01-02\n",
      "1  2017-02-01  2017-01-28    2017-02-05\n",
      "2  2017-03-01  2017-02-15    2017-03-02\n",
      "3  2017-04-01  2017-03-05    2017-04-08\n",
      "4  2017-05-01  2017-04-10    2017-05-15\n"
     ]
    }
   ],
   "source": [
    "print(df)"
   ]
  },
  {
   "cell_type": "code",
   "execution_count": 58,
   "id": "6349cda6-3645-4252-8da6-55eb4c3529ec",
   "metadata": {},
   "outputs": [],
   "source": [
    "df['Order Date'] = pd.to_datetime(df['Order Date'])\n",
    "df['Delivery Date'] = pd.to_datetime(df['Delivery Date'])\n",
    "df['Delivery Times'] = (df['Delivery Date'] - df['Order Date']).dt.days"
   ]
  },
  {
   "cell_type": "code",
   "execution_count": 59,
   "id": "a7310d47-46b3-4f16-b70f-deb46d0639a2",
   "metadata": {},
   "outputs": [
    {
     "name": "stdout",
     "output_type": "stream",
     "text": [
      "         Date Order Date Delivery Date  Delivery Times\n",
      "0  2017-01-01 2016-12-25    2017-01-02               8\n",
      "1  2017-02-01 2017-01-28    2017-02-05               8\n",
      "2  2017-03-01 2017-02-15    2017-03-02              15\n",
      "3  2017-04-01 2017-03-05    2017-04-08              34\n",
      "4  2017-05-01 2017-04-10    2017-05-15              35\n"
     ]
    }
   ],
   "source": [
    "print(df)"
   ]
  },
  {
   "cell_type": "code",
   "execution_count": 60,
   "id": "25c04933-5856-4684-8405-7c3ad2dea635",
   "metadata": {},
   "outputs": [],
   "source": [
    "df.to_csv('Delivery Times.csv',index=False)"
   ]
  },
  {
   "cell_type": "code",
   "execution_count": 61,
   "id": "b3fffb2c-116c-4860-91e1-d5e2599eb7d6",
   "metadata": {},
   "outputs": [],
   "source": [
    "data = {\n",
    "    'Date': ['2017-01-01', '2017-02-01', '2017-03-01', '2017-04-01', '2017-05-01'],\n",
    "    'Shipment Status': ['In Transit', 'Delivered', 'In Transit', 'Delivered', 'In Transit'],\n",
    "    'Inventory Status': ['Low', 'High', 'Medium', 'Medium', 'High']\n",
    "}"
   ]
  },
  {
   "cell_type": "code",
   "execution_count": 62,
   "id": "93ccfbd5-9f72-4d21-b7d2-83c3eef1050c",
   "metadata": {},
   "outputs": [],
   "source": [
    "df = pd.DataFrame(data)"
   ]
  },
  {
   "cell_type": "code",
   "execution_count": 63,
   "id": "cd12c64e-6040-4fd9-a0eb-2f8894cca33e",
   "metadata": {},
   "outputs": [
    {
     "name": "stdout",
     "output_type": "stream",
     "text": [
      "         Date Shipment Status Inventory Status\n",
      "0  2017-01-01      In Transit              Low\n",
      "1  2017-02-01       Delivered             High\n",
      "2  2017-03-01      In Transit           Medium\n",
      "3  2017-04-01       Delivered           Medium\n",
      "4  2017-05-01      In Transit             High\n"
     ]
    }
   ],
   "source": [
    "print(df)"
   ]
  },
  {
   "cell_type": "code",
   "execution_count": 64,
   "id": "d006e39d-3c50-462b-be3f-dd962eb294ca",
   "metadata": {},
   "outputs": [],
   "source": [
    "df.to_csv('Inventory Status.csv',index=False)"
   ]
  },
  {
   "cell_type": "code",
   "execution_count": 65,
   "id": "fe7497bd-c122-4c82-972c-6926fa630570",
   "metadata": {},
   "outputs": [],
   "source": [
    "df['Supply Chain Visibility'] = 0\n",
    "df.loc[df['Shipment Status'] == 'Delivered', 'Supply Chain Visibility'] += 1\n",
    "df.loc[df['Inventory Status'] =='High', 'Supply Chain Visibility'] +=1"
   ]
  },
  {
   "cell_type": "code",
   "execution_count": 66,
   "id": "f090410c-5d63-4e44-bbcc-f28b2e15a433",
   "metadata": {},
   "outputs": [
    {
     "name": "stdout",
     "output_type": "stream",
     "text": [
      "         Date Shipment Status Inventory Status  Supply Chain Visibility\n",
      "0  2017-01-01      In Transit              Low                        0\n",
      "1  2017-02-01       Delivered             High                        2\n",
      "2  2017-03-01      In Transit           Medium                        0\n",
      "3  2017-04-01       Delivered           Medium                        1\n",
      "4  2017-05-01      In Transit             High                        1\n"
     ]
    }
   ],
   "source": [
    "print(df)"
   ]
  },
  {
   "cell_type": "code",
   "execution_count": 67,
   "id": "cc891b5b-1d6c-4ad6-9a1c-582cffbd1810",
   "metadata": {},
   "outputs": [],
   "source": [
    "df.to_csv('Supply Chain Visibility.csv',index=False)"
   ]
  },
  {
   "cell_type": "code",
   "execution_count": 68,
   "id": "5c4b6764-3617-4cc4-9e01-5b9a70b0c15c",
   "metadata": {},
   "outputs": [],
   "source": [
    "# Create sample data\n",
    "data = {\n",
    "    'Date': ['2017-01-01', '2017-02-01', '2017-03-01', '2017-04-01', '2017-05-01'],\n",
    "    'Location': ['A', 'B', 'C', 'D', 'E'],\n",
    "    'Infrastructure Rating': [3, 2, 4, 3, 2]\n",
    "}"
   ]
  },
  {
   "cell_type": "code",
   "execution_count": 69,
   "id": "0c704705-96af-44e5-93dd-cb9948b517ce",
   "metadata": {},
   "outputs": [],
   "source": [
    "df = pd.DataFrame(data)"
   ]
  },
  {
   "cell_type": "code",
   "execution_count": 70,
   "id": "276e8a7c-780e-4f3f-92dd-c0f597f84feb",
   "metadata": {},
   "outputs": [
    {
     "name": "stdout",
     "output_type": "stream",
     "text": [
      "         Date Location  Infrastructure Rating\n",
      "0  2017-01-01        A                      3\n",
      "1  2017-02-01        B                      2\n",
      "2  2017-03-01        C                      4\n",
      "3  2017-04-01        D                      3\n",
      "4  2017-05-01        E                      2\n"
     ]
    }
   ],
   "source": [
    "print(df)"
   ]
  },
  {
   "cell_type": "code",
   "execution_count": 71,
   "id": "285f568c-41ad-4850-a650-31ca1ec97a39",
   "metadata": {},
   "outputs": [],
   "source": [
    "df.loc[df['Location'] == 'B', 'Infrastructure Rating'] = 5"
   ]
  },
  {
   "cell_type": "code",
   "execution_count": 72,
   "id": "852259c0-ab86-4d7c-bbf4-5d492610a528",
   "metadata": {},
   "outputs": [
    {
     "name": "stdout",
     "output_type": "stream",
     "text": [
      "         Date Location  Infrastructure Rating\n",
      "0  2017-01-01        A                      3\n",
      "1  2017-02-01        B                      5\n",
      "2  2017-03-01        C                      4\n",
      "3  2017-04-01        D                      3\n",
      "4  2017-05-01        E                      2\n"
     ]
    }
   ],
   "source": [
    "print(df)"
   ]
  },
  {
   "cell_type": "code",
   "execution_count": 73,
   "id": "5512ac77-8c4a-44d1-b8ea-d041d40b76d6",
   "metadata": {},
   "outputs": [],
   "source": [
    "df.loc[df['Location'] == 'A', 'Infrastructure Rating'] = 6"
   ]
  },
  {
   "cell_type": "code",
   "execution_count": 74,
   "id": "1e0ab897-0922-484e-838a-95872edcd066",
   "metadata": {},
   "outputs": [
    {
     "name": "stdout",
     "output_type": "stream",
     "text": [
      "         Date Location  Infrastructure Rating\n",
      "0  2017-01-01        A                      6\n",
      "1  2017-02-01        B                      5\n",
      "2  2017-03-01        C                      4\n",
      "3  2017-04-01        D                      3\n",
      "4  2017-05-01        E                      2\n"
     ]
    }
   ],
   "source": [
    "print(df)"
   ]
  },
  {
   "cell_type": "code",
   "execution_count": 75,
   "id": "2ebd3331-e060-48af-a1e0-0e634534f2db",
   "metadata": {},
   "outputs": [],
   "source": [
    "df.to_csv('Infrastructure Rating.csv',index=False)"
   ]
  }
 ],
 "metadata": {
  "kernelspec": {
   "display_name": "Python 3 (ipykernel)",
   "language": "python",
   "name": "python3"
  },
  "language_info": {
   "codemirror_mode": {
    "name": "ipython",
    "version": 3
   },
   "file_extension": ".py",
   "mimetype": "text/x-python",
   "name": "python",
   "nbconvert_exporter": "python",
   "pygments_lexer": "ipython3",
   "version": "3.12.4"
  }
 },
 "nbformat": 4,
 "nbformat_minor": 5
}
